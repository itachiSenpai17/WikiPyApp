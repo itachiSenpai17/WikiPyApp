{
  "nbformat": 4,
  "nbformat_minor": 0,
  "metadata": {
    "colab": {
      "provenance": [],
      "authorship_tag": "ABX9TyNrKrD2qRhxQWGZitYho5DQ",
      "include_colab_link": true
    },
    "kernelspec": {
      "name": "python3",
      "display_name": "Python 3"
    },
    "language_info": {
      "name": "python"
    }
  },
  "cells": [
    {
      "cell_type": "markdown",
      "metadata": {
        "id": "view-in-github",
        "colab_type": "text"
      },
      "source": [
        "<a href=\"https://colab.research.google.com/github/itachiSenpai17/WikiPyApp/blob/main/run_app_colab.ipynb\" target=\"_parent\"><img src=\"https://colab.research.google.com/assets/colab-badge.svg\" alt=\"Open In Colab\"/></a>"
      ]
    },
    {
      "cell_type": "code",
      "execution_count": null,
      "metadata": {
        "id": "N7_Yyia3p9LM"
      },
      "outputs": [],
      "source": [
        "# Install required packages\n",
        "!pip install wikipedia wikipedia-api plotly\n",
        "\n",
        "# Download the app.py from your GitHub repo\n",
        "!wget https://raw.githubusercontent.com/itachiSenpai17/WikiPyApp/main/app.py\n",
        "\n",
        "# Run the script\n",
        "!python3 app.py"
      ]
    }
  ]
}